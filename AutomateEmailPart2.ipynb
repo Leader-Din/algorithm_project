{
 "cells": [
  {
   "cell_type": "code",
   "execution_count": null,
   "id": "37acb07c",
   "metadata": {},
   "outputs": [],
   "source": [
    "import os \n",
    "import pandas as pd\n",
    "import smtplib\n",
    "from email.message import EmailMessage\n",
    "from getpass import getpass\n",
    "\n",
    "\n",
    "sender_email=input(\"Enter Your Email ID  \")\n",
    "sender_pass=getpass(\"Enter Your Password \")\n",
    "\n",
    "df = pd.read_excel(r\"kk:\\email.xlsx\")\n",
    "\n",
    "\n",
    "# df=pd.read_excel(\"E:\\For email.xlsx\")\n",
    "receivers_email=df[\"EMAIL_ID\"].values\n",
    "sub=(\"Test Mail \")\n",
    "attach_files=df[\"Files to be attached\"]\n",
    "name=df[\"NAME\"].values\n",
    "\n",
    "\n",
    "zipped=zip(receivers_email,attach_files,name)\n",
    "\n",
    "for(a,b,c) in zipped:\n",
    "    \n",
    "    msg=EmailMessage()\n",
    "    files=[(r\"C:\\Users\\Leader.Din\\Desktop\\Attachments\\{}.pdf\".format(b))]\n",
    "    \n",
    "    for file in files:\n",
    "        \n",
    "        with open(file,'rb') as f:\n",
    "            \n",
    "            file_data=f.read()\n",
    "            file_name=f.name\n",
    "            \n",
    "        msg['From']=sender_email\n",
    "        msg['To']=a\n",
    "        msg['Subject']=sub\n",
    "        msg.set_content(f\"hello {c}! I have something for you.\")\n",
    "        msg.add_attachment(file_data,maintype='application',subtype='octet-stream',filename=\"{}.pdf\".format(b))\n",
    "        \n",
    "        with smtplib.SMTP_SSL('smtp.gmail.com',465) as smtp:\n",
    "            \n",
    "            smtp.login(sender_email,sender_pass)\n",
    "            \n",
    "            smtp.send_message(msg)\n",
    "            \n",
    "print(\"All mail sent!\")"
   ]
  }
 ],
 "metadata": {
  "kernelspec": {
   "display_name": "Python 3",
   "language": "python",
   "name": "python3"
  },
  "language_info": {
   "codemirror_mode": {
    "name": "ipython",
    "version": 3
   },
   "file_extension": ".py",
   "mimetype": "text/x-python",
   "name": "python",
   "nbconvert_exporter": "python",
   "pygments_lexer": "ipython3",
   "version": "3.12.5"
  }
 },
 "nbformat": 4,
 "nbformat_minor": 5
}
